{
 "cells": [
  {
   "cell_type": "markdown",
   "metadata": {},
   "source": [
    "#### Atribuir as frases na variavel sentenças"
   ]
  },
  {
   "cell_type": "code",
   "execution_count": 36,
   "metadata": {},
   "outputs": [],
   "source": [
    "sentences = [\n",
    "\"The children were playing in the leaves yesterday.\",\n",
    "\"She studies computer science and 3 is taking three courses.\",\n",
    "\"The wolves howled at the moon while mice scurried in the grass.\",\n",
    "\"He was driving faster than the cars around him.\",\n",
    "\"The chefs used sharp knives to prepare the tastiest dishes.\"\n",
    "]"
   ]
  },
  {
   "cell_type": "markdown",
   "metadata": {},
   "source": [
    "#### criar função de limpeza"
   ]
  },
  {
   "cell_type": "code",
   "execution_count": 37,
   "metadata": {},
   "outputs": [],
   "source": [
    "def basic_cleaning(sentence):\n",
    "    sentence = sentence.lower()\n",
    "    sentence = ''.join(char for char in sentence if not char.isdigit())\n",
    "\n",
    "    for punctuation in string.punctuation:\n",
    "        sentence = sentence.replace(punctuation, '')\n",
    "\n",
    "    sentence = sentence.strip()\n",
    "\n",
    "    return sentence"
   ]
  },
  {
   "cell_type": "markdown",
   "metadata": {},
   "source": [
    "#### lemmatização manual ??????????????????????"
   ]
  },
  {
   "cell_type": "code",
   "execution_count": 38,
   "metadata": {},
   "outputs": [
    {
     "name": "stdout",
     "output_type": "stream",
     "text": [
      "the children were play in the leaves yesterday \n",
      " she study computer science and  is take three courses \n",
      " the wolves howl at the moon while mice scurry in the grass \n",
      " he was drive fast than the cars around him the chefs use sharp knives to prepare the tastiest dishes\n"
     ]
    }
   ],
   "source": [
    "cleaned = [basic_cleaning(sentence) for sentence in sentences]\n",
    "print(cleaned[0].replace(\"playing\", \"play\"),\"\\n\",\n",
    "      cleaned[1].replace(\"studies\", \"study\").replace(\"taking\", \"take\"),\"\\n\",\n",
    "      cleaned[2].replace(\"howled\", \"howl\").replace(\"scurried\", \"scurry\"),\"\\n\",\n",
    "      cleaned[3].replace(\"driving\", \"drive\").replace(\"faster\", \"fast\"),\n",
    "      cleaned[4].replace(\"used\", \"use\")\n",
    "      )"
   ]
  }
 ],
 "metadata": {
  "kernelspec": {
   "display_name": "Python 3",
   "language": "python",
   "name": "python3"
  },
  "language_info": {
   "codemirror_mode": {
    "name": "ipython",
    "version": 3
   },
   "file_extension": ".py",
   "mimetype": "text/x-python",
   "name": "python",
   "nbconvert_exporter": "python",
   "pygments_lexer": "ipython3",
   "version": "3.12.1"
  }
 },
 "nbformat": 4,
 "nbformat_minor": 2
}
